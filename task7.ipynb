{
 "cells": [
  {
   "cell_type": "markdown",
   "metadata": {},
   "source": [
    "# WSI - Ćwiczenie 7\n",
    "\n",
    "*Autor: Maksymilian Nowak*"
   ]
  },
  {
   "cell_type": "markdown",
   "metadata": {},
   "source": [
    "### Cel ćwiczenia\n",
    "\n",
    "Celem ćwiczenia jest implementacja narzędzia do wnioskowania przy użyciu sieci Bayesa i zademonstrowanie jego możliwości na następującym przykładzie:\n",
    "- Mamy w domu zamontowany alarm przeciwwłamaniowy.\n",
    "- Czasem alarm uruchamia się w przypadku niewielkich trzęsień ziemi.\n",
    "- Umówiliśmy się z sąsiadami, aby dzwonili gdy usłyszą alarm.\n",
    "    - Jan dzwoni do nas zawsze gdy usłyszy sygnał alarmu - czasem myli go nawet z innymi dźwiękami.\n",
    "    - Magda dzwoni rzadziej - w domu lubi słuchać dość głośnej muzyki.\n",
    "    \n",
    "**Pytanie: Jak ocenimy szanse na to, że było włamanie w zależności od tego kto zadzwonił?**\n",
    "\n",
    "#### Założenia\n",
    "\n",
    "1. Wnioskowanie będzie stosowało algorytm MCMC z próbkowaniem Gibbsa,\n",
    "2. Metoda/funkcja do wnioskowania będzie mieć 3 parametry wejściowe:\n",
    "    1. Dowody - zaobserwowane wartości wybranych węzłów sieci,\n",
    "    2. Zapytanie - określenie, dla której zmiennej chcemy wykonać obliczenia,\n",
    "    3. Liczba iteracji algorytmu MCMC,\n",
    "    \n",
    "    oraz będzie zwracała zaktualizowaną tabelę prawdopodobieństw dla zmiennej z zapytania,\n",
    "3. Można przyjąć założenie, że wszystkie zmienne losowe są binarne,\n",
    "4. Eksperymenty powinny dotyczyć tego, jak zmieniają się wyniki wnioskowania i czas obliczeń wraz ze zwiększaniem liczby iteracji.\n"
   ]
  }
 ],
 "metadata": {
  "language_info": {
   "name": "python"
  }
 },
 "nbformat": 4,
 "nbformat_minor": 2
}
