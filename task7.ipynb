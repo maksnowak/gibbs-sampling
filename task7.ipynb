{
 "cells": [
  {
   "cell_type": "markdown",
   "metadata": {},
   "source": [
    "# WSI - Ćwiczenie 7\n",
    "\n",
    "*Autor: Maksymilian Nowak*"
   ]
  },
  {
   "cell_type": "markdown",
   "metadata": {},
   "source": [
    "### Cel ćwiczenia\n",
    "\n",
    "Celem ćwiczenia jest implementacja narzędzia do wnioskowania przy użyciu sieci Bayesa i zademonstrowanie jego możliwości na następującym przykładzie:\n",
    "- Mamy w domu zamontowany alarm przeciwwłamaniowy.\n",
    "- Czasem alarm uruchamia się w przypadku niewielkich trzęsień ziemi.\n",
    "- Umówiliśmy się z sąsiadami, aby dzwonili gdy usłyszą alarm.\n",
    "    - Jan dzwoni do nas zawsze gdy usłyszy sygnał alarmu - czasem myli go nawet z innymi dźwiękami.\n",
    "    - Magda dzwoni rzadziej - w domu lubi słuchać dość głośnej muzyki.\n",
    "    \n",
    "**Pytanie: Jak ocenimy szanse na to, że było włamanie w zależności od tego kto zadzwonił?**\n",
    "\n",
    "#### Założenia\n",
    "\n",
    "1. Wnioskowanie będzie stosowało algorytm MCMC z próbkowaniem Gibbsa,\n",
    "2. Metoda/funkcja do wnioskowania będzie mieć 3 parametry wejściowe:\n",
    "    1. Dowody - zaobserwowane wartości wybranych węzłów sieci,\n",
    "    2. Zapytanie - określenie, dla której zmiennej chcemy wykonać obliczenia,\n",
    "    3. Liczba iteracji algorytmu MCMC,\n",
    "    \n",
    "    oraz będzie zwracała zaktualizowaną tabelę prawdopodobieństw dla zmiennej z zapytania,\n",
    "3. Można przyjąć założenie, że wszystkie zmienne losowe są binarne,\n",
    "4. Eksperymenty powinny dotyczyć tego, jak zmieniają się wyniki wnioskowania i czas obliczeń wraz ze zwiększaniem liczby iteracji.\n"
   ]
  },
  {
   "cell_type": "code",
   "execution_count": null,
   "metadata": {},
   "outputs": [],
   "source": [
    "class BayesianNode:\n",
    "    def __init__(self, name):\n",
    "        self.name = name\n",
    "        self.parents = []\n",
    "        self.children = []\n",
    "        self.value = None\n",
    "    \n",
    "    def add_parent(self, parent):\n",
    "        self.parents.append(parent)\n",
    "    \n",
    "    def add_child(self, child):\n",
    "        self.children.append(child)\n",
    "    \n",
    "    def set_value(self, value):\n",
    "        self.value = value"
   ]
  },
  {
   "cell_type": "code",
   "execution_count": null,
   "metadata": {},
   "outputs": [],
   "source": [
    "class BayesianNetwork:\n",
    "    def __init__(self, struct, prob):\n",
    "        self.nodes = {}\n",
    "        self.count = {}\n",
    "        self.prob = prob\n",
    "        for node, relation in struct.items():\n",
    "            if node not in self.nodes:\n",
    "                self.nodes[node] = BayesianNode(node)\n",
    "            for parent in relation:\n",
    "                if parent not in self.nodes:\n",
    "                    self.nodes[parent] = BayesianNode(parent)\n",
    "                self.nodes[node].add_parent(parent)\n",
    "                self.nodes[parent].add_child(node)\n",
    "    \n",
    "    def set_node_value(self, node, value):\n",
    "        self.nodes[node].set_value(value)\n",
    "    \n",
    "    def get_node_value(self, node):\n",
    "        return self.nodes[node].value\n",
    "    \n",
    "    def get_node_parents(self, node):\n",
    "        return self.nodes[node].parents\n",
    "    \n",
    "    def get_node_children(self, node):\n",
    "        return self.nodes[node].children\n",
    "    \n",
    "    def get_node(self, node):\n",
    "        return self.nodes[node]\n",
    "    \n",
    "    def add_node(self, name):\n",
    "        if name not in self.nodes:\n",
    "            self.nodes[name] = BayesianNode(name)\n",
    "    \n",
    "    def get_nodes(self):\n",
    "        return self.nodes.keys()\n"
   ]
  }
 ],
 "metadata": {
  "kernelspec": {
   "display_name": "Python 3",
   "language": "python",
   "name": "python3"
  },
  "language_info": {
   "name": "python",
   "version": "3.10.10"
  }
 },
 "nbformat": 4,
 "nbformat_minor": 2
}
